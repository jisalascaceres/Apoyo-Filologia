{
 "cells": [
  {
   "cell_type": "code",
   "execution_count": 11,
   "metadata": {
    "colab": {
     "base_uri": "https://localhost:8080/"
    },
    "executionInfo": {
     "elapsed": 26642,
     "status": "ok",
     "timestamp": 1734294016162,
     "user": {
      "displayName": "Marcos Salas Pascual",
      "userId": "01291233834475945794"
     },
     "user_tz": 0
    },
    "id": "ZfwJo9Qhlkw1",
    "outputId": "a0ca643f-3468-483e-856e-7c572a2411aa"
   },
   "outputs": [
    {
     "name": "stdout",
     "output_type": "stream",
     "text": [
      "Reading package lists... Done\n",
      "Building dependency tree... Done\n",
      "Reading state information... Done\n",
      "tesseract-ocr is already the newest version (4.1.1-2.1build1).\n",
      "0 upgraded, 0 newly installed, 0 to remove and 49 not upgraded.\n",
      "Requirement already satisfied: pytesseract in /usr/local/lib/python3.10/dist-packages (0.3.13)\n",
      "Requirement already satisfied: packaging>=21.3 in /usr/local/lib/python3.10/dist-packages (from pytesseract) (24.2)\n",
      "Requirement already satisfied: Pillow>=8.0.0 in /usr/local/lib/python3.10/dist-packages (from pytesseract) (11.0.0)\n",
      "Reading package lists... Done\n",
      "Building dependency tree... Done\n",
      "Reading state information... Done\n",
      "poppler-utils is already the newest version (22.02.0-2ubuntu0.5).\n",
      "0 upgraded, 0 newly installed, 0 to remove and 49 not upgraded.\n",
      "Requirement already satisfied: pdf2image in /usr/local/lib/python3.10/dist-packages (1.17.0)\n",
      "Requirement already satisfied: pillow in /usr/local/lib/python3.10/dist-packages (from pdf2image) (11.0.0)\n",
      "Reading package lists... Done\n",
      "Building dependency tree... Done\n",
      "Reading state information... Done\n",
      "libpoppler-cpp-dev is already the newest version (22.02.0-2ubuntu0.5).\n",
      "0 upgraded, 0 newly installed, 0 to remove and 49 not upgraded.\n",
      "Requirement already satisfied: pdf2image in /usr/local/lib/python3.10/dist-packages (1.17.0)\n",
      "Requirement already satisfied: pillow in /usr/local/lib/python3.10/dist-packages (from pdf2image) (11.0.0)\n",
      "Requirement already satisfied: python-Levenshtein in /usr/local/lib/python3.10/dist-packages (0.26.1)\n",
      "Requirement already satisfied: Levenshtein==0.26.1 in /usr/local/lib/python3.10/dist-packages (from python-Levenshtein) (0.26.1)\n",
      "Requirement already satisfied: rapidfuzz<4.0.0,>=3.9.0 in /usr/local/lib/python3.10/dist-packages (from Levenshtein==0.26.1->python-Levenshtein) (3.10.1)\n",
      "Requirement already satisfied: pypdf in /usr/local/lib/python3.10/dist-packages (5.1.0)\n",
      "Requirement already satisfied: typing_extensions>=4.0 in /usr/local/lib/python3.10/dist-packages (from pypdf) (4.12.2)\n",
      "--2024-12-15 20:20:14--  https://raw.githubusercontent.com/tesseract-ocr/tessdata_best/master/spa_old.traineddata\n",
      "Resolving raw.githubusercontent.com (raw.githubusercontent.com)... 185.199.108.133, 185.199.109.133, 185.199.110.133, ...\n",
      "Connecting to raw.githubusercontent.com (raw.githubusercontent.com)|185.199.108.133|:443... connected.\n",
      "HTTP request sent, awaiting response... 200 OK\n",
      "Length: 9476925 (9.0M) [application/octet-stream]\n",
      "Saving to: ‘spa_old.traineddata’\n",
      "\n",
      "spa_old.traineddata 100%[===================>]   9.04M  --.-KB/s    in 0.05s   \n",
      "\n",
      "2024-12-15 20:20:14 (181 MB/s) - ‘spa_old.traineddata’ saved [9476925/9476925]\n",
      "\n",
      "--2024-12-15 20:20:14--  https://raw.githubusercontent.com/tesseract-ocr/tessdata_best/master/spa.traineddata\n",
      "Resolving raw.githubusercontent.com (raw.githubusercontent.com)... 185.199.108.133, 185.199.109.133, 185.199.110.133, ...\n",
      "Connecting to raw.githubusercontent.com (raw.githubusercontent.com)|185.199.108.133|:443... connected.\n",
      "HTTP request sent, awaiting response... 200 OK\n",
      "Length: 13570187 (13M) [application/octet-stream]\n",
      "Saving to: ‘spa.traineddata’\n",
      "\n",
      "spa.traineddata     100%[===================>]  12.94M  --.-KB/s    in 0.06s   \n",
      "\n",
      "2024-12-15 20:20:14 (204 MB/s) - ‘spa.traineddata’ saved [13570187/13570187]\n",
      "\n"
     ]
    }
   ],
   "source": [
    "# Instalamos Los paquetes necesarios.\n",
    "!sudo apt install tesseract-ocr\n",
    "!pip install pytesseract\n",
    "!apt-get install poppler-utils\n",
    "!pip install pdf2image\n",
    "!apt-get install -y libpoppler-cpp-dev\n",
    "!pip install --upgrade pdf2image\n",
    "!pip install python-Levenshtein\n",
    "!pip install pypdf\n",
    "! wget https://raw.githubusercontent.com/tesseract-ocr/tessdata_best/master/spa_old.traineddata #https://stackoverflow.com/questions/57968216/google-colab-how-do-i-install-traineddata-file-for-pytesseract\n",
    "! sudo mv \"/content/spa_old.traineddata\" \"/usr/share/tesseract-ocr/4.00/tessdata\"\n",
    "! wget https://raw.githubusercontent.com/tesseract-ocr/tessdata_best/master/spa.traineddata #https://stackoverflow.com/questions/57968216/google-colab-how-do-i-install-traineddata-file-for-pytesseract\n",
    "! sudo mv \"/content/spa.traineddata\" \"/usr/share/tesseract-ocr/4.00/tessdata\"\n",
    "\n",
    "# Get the scripts with the functions from github https://github.com/jisalascaceres/Apoyo-Filologia\n",
    "! wget https://raw.githubusercontent.com/jisalascaceres/Apoyo-Filologia/main/Contador_Palabras/Word_Count.py\n",
    "! wget https://raw.githubusercontent.com/jisalascaceres/Apoyo-Filologia/main/Contador_Palabras/Utils.py"
   ]
  },
  {
   "cell_type": "code",
   "execution_count": 12,
   "metadata": {
    "colab": {
     "base_uri": "https://localhost:8080/"
    },
    "executionInfo": {
     "elapsed": 10,
     "status": "ok",
     "timestamp": 1734294016162,
     "user": {
      "displayName": "Marcos Salas Pascual",
      "userId": "01291233834475945794"
     },
     "user_tz": 0
    },
    "id": "xqLyZXHmruBg",
    "outputId": "5a6a5af7-7cfd-4527-b77d-68347e3d7fd9"
   },
   "outputs": [
    {
     "name": "stderr",
     "output_type": "stream",
     "text": [
      "[nltk_data] Downloading package punkt_tab to /root/nltk_data...\n",
      "[nltk_data]   Package punkt_tab is already up-to-date!\n"
     ]
    },
    {
     "data": {
      "text/plain": [
       "True"
      ]
     },
     "execution_count": 12,
     "metadata": {},
     "output_type": "execute_result"
    }
   ],
   "source": [
    "import pandas as pd\n",
    "import numpy as np\n",
    "import sys\n",
    "import random\n",
    "import pypdf\n",
    "from tqdm import tqdm\n",
    "import os\n",
    "import time\n",
    "import Levenshtein\n",
    "from nltk.tokenize import word_tokenize\n",
    "import pytesseract\n",
    "from pdf2image import convert_from_path\n",
    "from pypdf import PdfReader\n",
    "import nltk\n",
    "nltk.download('punkt_tab')\n",
    "\n",
    "from Utils import *\n",
    "from Word_count import *"
   ]
  },
  {
   "cell_type": "code",
   "execution_count": 15,
   "metadata": {
    "colab": {
     "base_uri": "https://localhost:8080/"
    },
    "executionInfo": {
     "elapsed": 927408,
     "status": "ok",
     "timestamp": 1734294943887,
     "user": {
      "displayName": "Marcos Salas Pascual",
      "userId": "01291233834475945794"
     },
     "user_tz": 0
    },
    "id": "oWv2OFuPmD7c",
    "outputId": "824b2581-fad4-46fb-c7f4-82c893b17833"
   },
   "outputs": [
    {
     "name": "stdout",
     "output_type": "stream",
     "text": [
      "Iniciando análisis de texto...\n",
      "PDF:  /content/1637-Moreno.pdf\n",
      "La página final debe ser menor que el número de páginas del pdf, que es 73, se establece el parámetro a este último.\n",
      "Número de páginas del PDF:  73\n",
      "Leyendo desde la página 1 hasta la página 73\n",
      "Digitalizando el texto...\n",
      "Esto puede tardar unos minutos, por favor, espere.\n"
     ]
    },
    {
     "name": "stderr",
     "output_type": "stream",
     "text": [
      "100%|██████████| 73/73 [14:01<00:00, 11.53s/it]\n"
     ]
    },
    {
     "name": "stdout",
     "output_type": "stream",
     "text": [
      "Buscando palabras...\n"
     ]
    },
    {
     "name": "stderr",
     "output_type": "stream",
     "text": [
      "<ipython-input-14-6c2c44de1284>:118: FutureWarning: Setting an item of incompatible dtype is deprecated and will raise an error in a future version of pandas. Value '3,3,3,3,4,4,4,6,7,7,7,7,7,7,7,7,7,8,8,8,8,8,9,9,9,9,9,9,9,10,10,10,10,10,10,10,10,11,11,11,11,11,11,11,11,11,12,12,12,12,12,12,12,12,12,12,12,12,12,12,13,13,13,13,13,13,13,13,14,14,14,14,14,14,14,14,14,14,14,14,14,15,15,15,15,15,16,16,17,17,17,17,17,17,17,17,17,17,17,17,17,18,18,18,18,18,19,19,19,19,19,19,19,19,19,19,19,19,19,19,20,20,20,20,20,20,20,20,20,20,20,20,21,21,21,21,21,21,21,21,21,21,21,21,21,21,22,22,22,22,22,22,22,22,22,22,23,23,23,23,23,23,23,23,23,23,23,23,24,24,24,24,25,25,25,25,25,26,26,26,26,26,27,27,27,27,27,27,27,27,27,27,27,27,27,27,27,27,28,28,28,28,28,28,28,28,28,29,29,29,29,29,29,29,29,29,29,30,30,30,30,30,30,30,30,30,30,31,31,31,31,31,31,31,31,31,31,31,31,31,32,32,32,32,32,32,32,32,32,32,32,32,33,33,33,33,33,33,33,33,33,33,34,34,34,34,34,34,34,34,34,34,34,35,35,35,35,35,35,35,35,35,35,35,36,36,36,36,36,36,36,36,36,36,36,36,36,36,36,36,37,37,37,37,37,37,37,37,37,37,37,37,37,37,37,37,38,38,38,38,38,38,38,38,38,38,38,38,38,38,38,38,38,38,38,38,39,39,39,39,39,39,39,39,39,39,39,39,39,39,39,39,39,40,40,40,40,40,40,40,40,40,40,40,40,40,40,40,40,40,40,40,40,40,40,41,41,41,41,41,41,41,41,41,41,41,41,41,41,41,41,41,42,42,42,42,42,42,42,42,42,42,42,42,42,42,42,42,42,42,42,42,42,42,42,42,42,43,43,43,43,43,43,43,43,43,43,43,43,44,44,44,44,44,44,44,44,44,44,44,44,44,44,44,45,45,45,45,45,45,45,45,45,46,46,46,46,46,46,46,46,46,46,46,46,46,46,47,47,47,47,47,47,47,47,47,47,47,48,48,48,48,48,48,48,48,48,48,48,48,48,48,48,48,48,48,48,48,48,48,48,48,49,49,49,49,49,49,49,49,49,49,49,50,50,50,50,50,50,50,50,50,50,50,51,51,51,51,51,51,51,52,52,52,52,52,52,52,52,52,52,52,53,53,54,54,54,54,54,54,54,54,54,54,54,55,55,55,55,55,55,55,55,55,55,55,56,56,56,56,56,56,56,57,57,57,57,57,57,57,57,57,57,58,58,58,58,58,58,58,58,59,59,59,59,59,60,60,60,60,60,60,61,61,61,61,62,62,62,62,62,62,62,62,62,62,62,63,63,63,63,63,63,63,63,64,64,64,64,64,64,64,64,64,64,64,64,64,64,65,65,65,65,65,65,65,65,66,66,66,66,66,66,66,66,66,66,66,67,67,67,67,67,67,67,67,67,67,67,68,68,68,68,68,68,68,68,68,68,68,68,68,68,68,68,68,68,68,68,68,68,68,68,69,69,69,69,69,69,69,69,69,69,69,70,70,70,70,70,70,70,70,70,70,70,71,71,71,71,71,71,71,72,72' has dtype incompatible with float64, please explicitly cast to a compatible dtype first.\n",
      "  df_words.loc[index, 'Page'] = page_numbers\n",
      "<ipython-input-14-6c2c44de1284>:120: FutureWarning: Setting an item of incompatible dtype is deprecated and will raise an error in a future version of pandas. Value 'alama,alama,achma,alama,alama,alama,alama,spana,axaca,ataca,axaca,ican,nfana,acon,icara,acon,arcina,axaca,amina,icada,ican,scan,axaca,axaca,sana,adan,axaca,aca,alcan,umana,icada,acada,alcan,axaca,ican,aca,acaba,alaba,icada,adan,acon,can,agan,cada,acta,ayan,scan,agan,gana,gana,scan,cada,acha,atan,acha,ayan,cada,acha,agan,amena,aman,acra,acin,aca,mana,casa,casa,atina,acra,añan,aca,acusa,acusa,acin,ncapa,acon,añan,adan,octna,can,can,acon,ecan,acaba,acon,acon,ana,alara,ecan,ayan,can,aran,agan,ajan,cada,ayan,cada,casa,casa,cada,acon,alaba,casa,alaba,acon,aran,casa,caca,agan,aca,cata,agan,casa,casa,casa,casa,ajena,gana,gana,casa,_casa,ocan,can,aran,aciona,gana,lcan,acen,scata,scata,auan,casa,aca,vana,anina,acon,scan,grana,grana,trana,allana,grana,grana,agara,rana,acta,grana,grana,grana,grana,gana,rcan,casa,scan,cada,can,aca,agan,agan,agan,caua,agan,casa,acia,cona,acan,ayan,gana,can,llana,asan,cona,acia,rcada,can,ican,agan,agan,acha,can,grana,grana,enana,cada,can,grana,grana,acin,grana,gana,aca,agaa,ataua,aca,agan,aca,can,aran,casa,aran,agan,caua,aran,azan,atan,cara,arata,scan,aca,alan,rcan,lcada,icada,can,aca,aman,abona,anana,aca,casa,casa,casa,acan,acin,acin,amana,cona,caua,agan,ecan,agan,amara,agan,asan,cada,gana,aca,aran,agan,ncapa,ecan,acin,aaba,enana,amena,casa,acin,itana,casa,gana,acena,aman,aman,ocan,auan,can,can,umana,erana,umana,atan,amna,umana,umana,stana,can,atan,atan,tana,can,icada,casa,atan,agina,cava,casa,cana,can,agan,pana,ecaa,acusa,aan,acon,casa,gana,ana,can,gana,capa,ecan,grana,caca,agina,gana,can,casa,caca,caca,cada,añara,caca,caca,casa,caca,caca,caca,caca,caca,caca,lana,aran,cada,casa,can,caga,can,ayan,can,capa,gana,can,can,acuda,casa,nana,caba,pana,vana,casa,cada,cada,casa,cada,gana,casa,cada,aca,aca,cada,acusa,acusa,acusa,icada,cada,ecan,acota,_cada,amena,amena,cada,casa,cada,cada,aca,acan,casa,gana,casa,aran,aciona,caa,tana,aciona,can,casa,scan,alan,cada,cada,emana,cava,gana,aca,gana,can,casa,aca,cava,asan,cada,aca,caua,aca,aca,caua,caba,can,agan,cada,aca,can,caua,aca,aca,cava,caua,aca,aca,_caua,aca,caua,aca,caua,aca,caua,arada,can,aca,aca,aca,aca,aca,emana,emana,gana,gana,aca,ayan,casa,ayan,abaja,casa,ecan,amina,ayan,can,agan,cada,ataja,icna,acen,acata,aran,acia,icina,acen,lana,aman,can,cona,diana,cama,can,acta,can,actua,aran,can,asan,casa,acra,can,actua,acha,alaa,alaa,ayan,scan,agena,acia,scan,actua,rcan,rcan,rcan,casa,axaca,auan,aca,cada,actua,rcan,caua,cada,scan,rcan,cada,acia,grana,caca,grana,alaja,caca,agaua,can,caca,caca,axaca,aman,can,caia,grana,agan,auan,grana,aca,casa,grana,grana,grana,acaba,ntana,cama,aran,cona,can,rcan,can,atan,icna,sana,aca,actua,casa,sana,can,cada,can,aca,cana,avena,alan,cena,cada,acia,aman,auan,alcan,aca,ocan,ecena,mana,acin,araa,acon,ecan,ecan,añan,acon,acen,acon,aran,cada,cada,aca,actua,alcan,añan,cona,amena,apan,dana,scan,capa,ccan,acta,apan,ecan,acita,ayan,cada,ican,atana,can,capa,atana,agara,acita,añada,acepa,acon,ncada,alcaba,agan,acia,amena,agena,amena,acha,acha,acaba,acha,acia,acra,acra,scan,can,can,ncapa,cada,acra,azona,acra,ccata,acra,can,acra,casa,ican,icina,ecara,acota,acusa,ican,acon,acon,acon,can,acon,acon,acea,acen,acea,acon,can,acon,ncan,agan,alcan,ayan,aca,can,capa,casa,aca,ican,acia,acia,cada,acia,acia,ican,acia,acia,acia,acia,can,can,atada,aran,aca,gana,atan,scan,acin,agan,aca,cada,atan,acra,aman,acia,alcaua,atan,atan,acaba,acia,grana,umana,agan,agan,ofana,amena,can,atada,scan,scan,scan,can,scan,scan,añan,scan,scan,can,scan,auan,scan,scan,scan,scan,ecan,scan,ecan,scan,umana,acia,agan,scan,cada,stana,agan,ajan,acan,añan,ecan,acn,isana,aman,scan,scan,ofana,acra,agena,atan,acon,acaba,acaba,abona,araña,cada,sana,ncan,ayan,scan,aran,sana,atara,acia,aan,ican,ofana,ccata' has dtype incompatible with float64, please explicitly cast to a compatible dtype first.\n",
      "  df_words.loc[index, 'coincidences'] = coincidences\n"
     ]
    },
    {
     "name": "stdout",
     "output_type": "stream",
     "text": [
      "Guardando resultados...\n",
      "Archivo guardado en:  Output.xlsx\n"
     ]
    }
   ],
   "source": [
    "name_excel = 'antillanismos.xlsx'\n",
    "name_pdf = '1637-Moreno.pdf'\n",
    "path_output = 'Output.xlsx'\n",
    "\n",
    "path_csv = '/content/' + name_excel\n",
    "path_pdf = '/content/' + name_pdf\n",
    "\n",
    "start_page = 1\n",
    "end_page = -1\n",
    "max_distance = 2\n",
    "return_coincidences = True\n",
    "formato = '.xlsx'\n",
    "number_of_returns = 2\n",
    "folder = False\n",
    "\n",
    "\n",
    "\n",
    "Perform_word_count(path_pdf, path_csv, start_page, end_page, max_distance, return_coincidences, path_output, formato,\n",
    "                       number_of_returns, folder,'spa')\n"
   ]
  }
 ],
 "metadata": {
  "colab": {
   "provenance": []
  },
  "kernelspec": {
   "display_name": "Python 3",
   "name": "python3"
  },
  "language_info": {
   "name": "python"
  }
 },
 "nbformat": 4,
 "nbformat_minor": 0
}
